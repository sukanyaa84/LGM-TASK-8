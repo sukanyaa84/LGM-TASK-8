{
  "nbformat": 4,
  "nbformat_minor": 0,
  "metadata": {
    "colab": {
      "name": "Untitled9.ipynb",
      "provenance": []
    },
    "kernelspec": {
      "name": "python3",
      "display_name": "Python 3"
    },
    "language_info": {
      "name": "python"
    }
  },
  "cells": [
    {
      "cell_type": "markdown",
      "source": [
        "**Next Word Prediction**"
      ],
      "metadata": {
        "id": "mQRLZKczaavX"
      }
    },
    {
      "cell_type": "code",
      "source": [
        "pip install tensorflow_addons"
      ],
      "metadata": {
        "colab": {
          "base_uri": "https://localhost:8080/"
        },
        "id": "OKxfDkb2Qhk8",
        "outputId": "601ed3fb-6964-4420-e355-4d02de504055"
      },
      "execution_count": 4,
      "outputs": [
        {
          "output_type": "stream",
          "name": "stdout",
          "text": [
            "Looking in indexes: https://pypi.org/simple, https://us-python.pkg.dev/colab-wheels/public/simple/\n",
            "Collecting tensorflow_addons\n",
            "  Downloading tensorflow_addons-0.17.1-cp37-cp37m-manylinux_2_17_x86_64.manylinux2014_x86_64.whl (1.1 MB)\n",
            "\u001b[K     |████████████████████████████████| 1.1 MB 25.3 MB/s \n",
            "\u001b[?25hRequirement already satisfied: packaging in /usr/local/lib/python3.7/dist-packages (from tensorflow_addons) (21.3)\n",
            "Requirement already satisfied: typeguard>=2.7 in /usr/local/lib/python3.7/dist-packages (from tensorflow_addons) (2.7.1)\n",
            "Requirement already satisfied: pyparsing!=3.0.5,>=2.0.2 in /usr/local/lib/python3.7/dist-packages (from packaging->tensorflow_addons) (3.0.9)\n",
            "Installing collected packages: tensorflow-addons\n",
            "Successfully installed tensorflow-addons-0.17.1\n"
          ]
        }
      ]
    },
    {
      "cell_type": "code",
      "source": [
        "import numpy as np\n",
        "import tensorflow as tf\n",
        "from keras.models import Sequential, load_model\n",
        "from keras.layers import LSTM\n",
        "from keras.layers.core import Dense, Activation\n",
        "from tensorflow.keras.optimizers import RMSprop\n",
        "import tensorflow_addons as tfa\n",
        "import matplotlib.pyplot as plt\n",
        "import pickle\n",
        "import heapq\n",
        "\n",
        "np.random.seed(42)\n",
        "\n",
        "import warnings\n",
        "warnings.filterwarnings(\"ignore\")"
      ],
      "metadata": {
        "id": "A2uxOBZGQF3s"
      },
      "execution_count": 5,
      "outputs": []
    },
    {
      "cell_type": "code",
      "source": [
        "path = '8.txt'\n",
        "txt = open(path, encoding='utf-8').read().lower()\n",
        "print('corpus length', len(txt))"
      ],
      "metadata": {
        "colab": {
          "base_uri": "https://localhost:8080/"
        },
        "id": "IdCc1TxNQtfI",
        "outputId": "3615af12-4c27-48bf-bb1e-94d1c40ca601"
      },
      "execution_count": 7,
      "outputs": [
        {
          "output_type": "stream",
          "name": "stdout",
          "text": [
            "corpus length 581888\n"
          ]
        }
      ]
    },
    {
      "cell_type": "code",
      "source": [
        "chars = sorted(list(set(txt)))\n",
        "char_indices = dict((c, i) for i, c in enumerate(chars))\n",
        "indices_char = dict((i, c) for i, c in enumerate(chars))\n",
        "print (\"unique chars: \",len(chars))"
      ],
      "metadata": {
        "colab": {
          "base_uri": "https://localhost:8080/"
        },
        "id": "QVQmfgS1Q4-e",
        "outputId": "28eb9289-c873-42a9-e2db-1c9af83e3d15"
      },
      "execution_count": 8,
      "outputs": [
        {
          "output_type": "stream",
          "name": "stdout",
          "text": [
            "unique chars:  73\n"
          ]
        }
      ]
    },
    {
      "cell_type": "markdown",
      "source": [
        "Feature Engineering :"
      ],
      "metadata": {
        "id": "sC_iDl0_amId"
      }
    },
    {
      "cell_type": "code",
      "source": [
        "SEQUENCE_LENGTH = 39\n",
        "step = 3\n",
        "sentences = []\n",
        "next_chars = []\n",
        "for i in range(0, len(txt) - SEQUENCE_LENGTH, step):\n",
        "    sentences.append(txt[i:i+SEQUENCE_LENGTH])\n",
        "    next_chars.append(txt[i+SEQUENCE_LENGTH])\n",
        "print ('num training examples: ',len(sentences))"
      ],
      "metadata": {
        "colab": {
          "base_uri": "https://localhost:8080/"
        },
        "id": "jHkaavlcQ7mF",
        "outputId": "8a4d6ad3-df04-49a9-a941-db2c431598bb"
      },
      "execution_count": 9,
      "outputs": [
        {
          "output_type": "stream",
          "name": "stdout",
          "text": [
            "num training examples:  193950\n"
          ]
        }
      ]
    },
    {
      "cell_type": "code",
      "source": [
        "X = np.zeros((len(sentences), SEQUENCE_LENGTH, len(chars)), dtype=np.bool)\n",
        "y = np.zeros((len(sentences), len(chars)), dtype=np.bool)\n",
        "for i, sentence in enumerate(sentences):\n",
        "    for t, char in enumerate(sentence):\n",
        "        X[i, t, char_indices[char]] = 1\n",
        "    y[i, char_indices[next_chars[i]]] = 1"
      ],
      "metadata": {
        "id": "baxza1X2Q-Hd"
      },
      "execution_count": 10,
      "outputs": []
    },
    {
      "cell_type": "code",
      "source": [
        "print(X[0][0])"
      ],
      "metadata": {
        "colab": {
          "base_uri": "https://localhost:8080/"
        },
        "id": "s3eKUdPgRAG5",
        "outputId": "6d3391b3-31e8-4f74-8631-739a23ba04bf"
      },
      "execution_count": 11,
      "outputs": [
        {
          "output_type": "stream",
          "name": "stdout",
          "text": [
            "[False False False False False False False False False False False False\n",
            " False False False False False False False False False False False False\n",
            " False False False False False False False False False False False False\n",
            " False False False False False False False False False False False False\n",
            " False False False False False False False False False False False False\n",
            " False False False False False False False False False False False False\n",
            "  True]\n"
          ]
        }
      ]
    },
    {
      "cell_type": "markdown",
      "source": [
        "Model Building :"
      ],
      "metadata": {
        "id": "j6D56-staqKN"
      }
    },
    {
      "cell_type": "code",
      "source": [
        "model = Sequential();\n",
        "model.add(LSTM(128, input_shape=(SEQUENCE_LENGTH, len(chars))))\n",
        "model.add(Dense(len(chars)))\n",
        "model.add(Activation('softmax'))\n",
        "model.summary()"
      ],
      "metadata": {
        "colab": {
          "base_uri": "https://localhost:8080/"
        },
        "id": "LohsPJNyRFv_",
        "outputId": "851ca826-0ec8-43de-a228-cf3a1833414c"
      },
      "execution_count": 12,
      "outputs": [
        {
          "output_type": "stream",
          "name": "stdout",
          "text": [
            "Model: \"sequential\"\n",
            "_________________________________________________________________\n",
            " Layer (type)                Output Shape              Param #   \n",
            "=================================================================\n",
            " lstm (LSTM)                 (None, 128)               103424    \n",
            "                                                                 \n",
            " dense (Dense)               (None, 73)                9417      \n",
            "                                                                 \n",
            " activation (Activation)     (None, 73)                0         \n",
            "                                                                 \n",
            "=================================================================\n",
            "Total params: 112,841\n",
            "Trainable params: 112,841\n",
            "Non-trainable params: 0\n",
            "_________________________________________________________________\n"
          ]
        }
      ]
    },
    {
      "cell_type": "markdown",
      "source": [
        "Model Training :"
      ],
      "metadata": {
        "id": "8NJxobE5aucR"
      }
    },
    {
      "cell_type": "code",
      "source": [
        "optimizer = RMSprop(lr= 0.01)\n",
        "model.compile(loss='categorical_crossentropy', optimizer=optimizer, metrics=['accuracy'])\n",
        "history = model.fit(X, y, validation_split=0.05, batch_size=128, epochs=10, shuffle=True).history"
      ],
      "metadata": {
        "colab": {
          "base_uri": "https://localhost:8080/"
        },
        "id": "8kmDpVEhRQXR",
        "outputId": "47a47998-2f2c-4cf4-8048-026f0bd4b45b"
      },
      "execution_count": 13,
      "outputs": [
        {
          "output_type": "stream",
          "name": "stdout",
          "text": [
            "Epoch 1/10\n",
            "1440/1440 [==============================] - 163s 111ms/step - loss: 1.9733 - accuracy: 0.4198 - val_loss: 2.1252 - val_accuracy: 0.4088\n",
            "Epoch 2/10\n",
            "1440/1440 [==============================] - 159s 110ms/step - loss: 1.6143 - accuracy: 0.5169 - val_loss: 2.0645 - val_accuracy: 0.4379\n",
            "Epoch 3/10\n",
            "1440/1440 [==============================] - 158s 110ms/step - loss: 1.5141 - accuracy: 0.5447 - val_loss: 2.0444 - val_accuracy: 0.4393\n",
            "Epoch 4/10\n",
            "1440/1440 [==============================] - 159s 110ms/step - loss: 1.4613 - accuracy: 0.5589 - val_loss: 2.0503 - val_accuracy: 0.4535\n",
            "Epoch 5/10\n",
            "1440/1440 [==============================] - 159s 110ms/step - loss: 1.4265 - accuracy: 0.5673 - val_loss: 2.0349 - val_accuracy: 0.4533\n",
            "Epoch 6/10\n",
            "1440/1440 [==============================] - 159s 110ms/step - loss: 1.4005 - accuracy: 0.5746 - val_loss: 2.0477 - val_accuracy: 0.4504\n",
            "Epoch 7/10\n",
            "1440/1440 [==============================] - 159s 110ms/step - loss: 1.3813 - accuracy: 0.5787 - val_loss: 2.0362 - val_accuracy: 0.4595\n",
            "Epoch 8/10\n",
            "1440/1440 [==============================] - 160s 111ms/step - loss: 1.3671 - accuracy: 0.5831 - val_loss: 2.0596 - val_accuracy: 0.4601\n",
            "Epoch 9/10\n",
            "1440/1440 [==============================] - 158s 110ms/step - loss: 1.3563 - accuracy: 0.5875 - val_loss: 2.0567 - val_accuracy: 0.4603\n",
            "Epoch 10/10\n",
            "1440/1440 [==============================] - 160s 111ms/step - loss: 1.3437 - accuracy: 0.5894 - val_loss: 2.0820 - val_accuracy: 0.4541\n"
          ]
        }
      ]
    },
    {
      "cell_type": "code",
      "source": [
        "model.save('LGMVIP_Task8_model.h5')\n",
        "pickle.dump(history, open(\"history.p\", \"wb\"))\n",
        "model = load_model('LGMVIP_Task8_model.h5')\n",
        "history = pickle.load(open(\"history.p\", \"rb\"))"
      ],
      "metadata": {
        "id": "4TMIFtXYZDL9"
      },
      "execution_count": 14,
      "outputs": []
    },
    {
      "cell_type": "markdown",
      "source": [
        "Evaluating the Next Word Prediction Model :"
      ],
      "metadata": {
        "id": "G0bTRYDFayxy"
      }
    },
    {
      "cell_type": "code",
      "source": [
        "plt.plot(history['accuracy'])\n",
        "plt.plot(history['val_accuracy'])\n",
        "plt.title('model accuracy')\n",
        "plt.ylabel('accuracy')\n",
        "plt.xlabel('epoch')\n",
        "plt.legend(['train', 'test'], loc='best')\n",
        "plt.savefig(\"Task8_Accuracy.png\")"
      ],
      "metadata": {
        "colab": {
          "base_uri": "https://localhost:8080/",
          "height": 295
        },
        "id": "xk11z3n2ZIVn",
        "outputId": "d9458727-7a3f-4924-f1de-e0ab71087ed2"
      },
      "execution_count": 15,
      "outputs": [
        {
          "output_type": "display_data",
          "data": {
            "text/plain": [
              "<Figure size 432x288 with 1 Axes>"
            ],
            "image/png": "[encoded data removed]"
          },
          "metadata": {
            "needs_background": "light"
          }
        }
      ]
    },
    {
      "cell_type": "code",
      "source": [
        "plt.plot(history['loss'])\n",
        "plt.plot(history['val_loss'])\n",
        "plt.title('model loss')\n",
        "plt.ylabel('loss')\n",
        "plt.xlabel('epoch')\n",
        "plt.legend(['train', 'test'], loc= 'best')\n",
        "plt.savefig(\"Task8_Loss.png\")"
      ],
      "metadata": {
        "colab": {
          "base_uri": "https://localhost:8080/",
          "height": 295
        },
        "id": "IsSNkbljZJ8k",
        "outputId": "8bd51cd2-aa6e-4c0a-e756-e6376ccfb6c6"
      },
      "execution_count": 16,
      "outputs": [
        {
          "output_type": "display_data",
          "data": {
            "text/plain": [
              "<Figure size 432x288 with 1 Axes>"
            ],
            "image/png": "[encoded data removed]"
          },
          "metadata": {
            "needs_background": "light"
          }
        }
      ]
    },
    {
      "cell_type": "code",
      "source": [
        "def prepare_input(text):\n",
        "    x = np.zeros((1, SEQUENCE_LENGTH, len(chars)))\n",
        "    for t, char in enumerate(text):\n",
        "        x[0, t, char_indices[char]] = 1\n",
        "    return x"
      ],
      "metadata": {
        "id": "bmvU6CLFZOqX"
      },
      "execution_count": 17,
      "outputs": []
    },
    {
      "cell_type": "markdown",
      "source": [
        "The Sample function :"
      ],
      "metadata": {
        "id": "2fZAFs6na6sE"
      }
    },
    {
      "cell_type": "code",
      "source": [
        "def sample(preds, top_n = 3):\n",
        "    preds = np.asarray(preds).astype('float64')\n",
        "    preds = np.log(preds)\n",
        "    exp_preds = np.exp(preds)\n",
        "    preds = exp_preds / np.sum(exp_preds)\n",
        "    return heapq.nlargest(top_n, range(len(preds)), preds.take)"
      ],
      "metadata": {
        "id": "DISwTqfmZPhN"
      },
      "execution_count": 18,
      "outputs": []
    },
    {
      "cell_type": "code",
      "source": [
        "def predict_completion(text):\n",
        "    original_text = text\n",
        "    generalised = text\n",
        "    completion = ''\n",
        "    while True:\n",
        "        x = prepare_input(text)\n",
        "        preds = model.predict(x, verbose=0)[0]\n",
        "        next_index = sample(preds, top_n=1)[0]\n",
        "        next_char = indices_char[next_index]\n",
        "    text = txt[1:] + next_char\n",
        "    completion += next_char\n",
        "    if len(original_text + completion) + 2 > len(original_text) and next_char == ' ':\n",
        "                return completion"
      ],
      "metadata": {
        "id": "YWHi7vUQZTuP"
      },
      "execution_count": 19,
      "outputs": []
    },
    {
      "cell_type": "markdown",
      "source": [
        "Prediction of multiple completions :"
      ],
      "metadata": {
        "id": "Qxin3o-vbCc-"
      }
    },
    {
      "cell_type": "code",
      "source": [
        "def predict_completions(text, n = 3):\n",
        "    x = prepare_input(text)\n",
        "    preds = model.predict(x, verbose=0)[0]\n",
        "    next_indices = sample(preds, n)\n",
        "    return [indices_char[idx] + predict_completion(text[1:] + indices_char[idx]) for idx in next_indices]"
      ],
      "metadata": {
        "id": "3Y3UoRglZbay"
      },
      "execution_count": 20,
      "outputs": []
    },
    {
      "cell_type": "code",
      "source": [
        "# Sample Test case\n",
        "quotes = [\n",
        "    \"It is not a lack of love, but a lack of friendship that makes unhappy marriages.\",\n",
        "    \"That which does not kill us makes us stronger.\",\n",
        "    \"I'm not upset that you lied to me, I'm upset that from now on I can't believe you.\",\n",
        "    \"And those who were seen dancing were thought to be insane by those who could not hear the music.\",\n",
        "    \"It is hard enough to remember my opinions, without also remembering my reasons for them!\"\n",
        "]"
      ],
      "metadata": {
        "id": "_3_3lxRIZgWU"
      },
      "execution_count": 21,
      "outputs": []
    },
    {
      "cell_type": "code",
      "source": [
        "for q in quotes:\n",
        "    seq = q[:SEQUENCE_LENGTH].lower()\n",
        "    print (seq)\n",
        "    print (predict_completions(seq, 5))"
      ],
      "metadata": {
        "id": "8qB3xDu5bMkE",
        "outputId": "d181cece-5ebf-4ae2-d02d-61634ba5b1e6",
        "colab": {
          "base_uri": "https://localhost:8080/"
        }
      },
      "execution_count": null,
      "outputs": [
        {
          "output_type": "stream",
          "name": "stdout",
          "text": [
            "it is not a lack of love, but a lack of\n"
          ]
        }
      ]
    }
  ]
}